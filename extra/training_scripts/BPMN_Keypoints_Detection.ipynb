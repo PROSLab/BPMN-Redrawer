{
  "cells": [
    {
      "cell_type": "markdown",
      "metadata": {
        "id": "eeDre9s0fyZK"
      },
      "source": [
        "# Install Detectron2"
      ]
    },
    {
      "cell_type": "code",
      "execution_count": null,
      "metadata": {
        "id": "95zUWW_hKUDf"
      },
      "outputs": [],
      "source": [
        "from google.colab import drive\n",
        "drive.mount('/content/gdrive')"
      ]
    },
    {
      "cell_type": "code",
      "execution_count": null,
      "metadata": {
        "id": "FsePPpwZSmqt"
      },
      "outputs": [],
      "source": [
        "!pip install pyyaml==5.1\n",
        "\n",
        "import torch\n",
        "TORCH_VERSION = \".\".join(torch.__version__.split(\".\")[:2])\n",
        "CUDA_VERSION = torch.__version__.split(\"+\")[-1]\n",
        "print(\"torch: \", TORCH_VERSION, \"; cuda: \", CUDA_VERSION)\n",
        "!pip install detectron2 -f https://dl.fbaipublicfiles.com/detectron2/wheels/$CUDA_VERSION/torch$TORCH_VERSION/index.html"
      ]
    },
    {
      "cell_type": "code",
      "execution_count": null,
      "metadata": {
        "id": "ZyAvNCJMmvFF"
      },
      "outputs": [],
      "source": [
        "import detectron2\n",
        "from detectron2.utils.logger import setup_logger\n",
        "setup_logger()\n",
        "\n",
        "import numpy as np\n",
        "import os, json, cv2, random\n",
        "from google.colab.patches import cv2_imshow\n",
        "\n",
        "from detectron2 import model_zoo\n",
        "from detectron2.engine import DefaultPredictor\n",
        "from detectron2.config import get_cfg\n",
        "from detectron2.utils.visualizer import Visualizer\n",
        "from detectron2.data import MetadataCatalog, DatasetCatalog"
      ]
    },
    {
      "cell_type": "code",
      "execution_count": null,
      "metadata": {
        "id": "zaBxrN99JIiY"
      },
      "outputs": [],
      "source": [
        "from detectron2.data.datasets import register_coco_instances\n",
        "register_coco_instances(\"my_dataset_train\", {}, \"/content/gdrive/MyDrive/keypoints_detection/keypoints_dataset/annotations_train.json\", \"/content/gdrive/MyDrive/keypoints_detection/keypoints_dataset/train\")\n",
        "register_coco_instances(\"my_dataset_val\", {}, \"/content/gdrive/MyDrive/keypoints_detection/keypoints_dataset/annotations_val.json\", \"/content/gdrive/MyDrive/keypoints_detection/keypoints_dataset/val\")\n",
        "register_coco_instances(\"my_dataset_test\", {}, \"/content/gdrive/MyDrive/keypoints_detection/keypoints_dataset/annotations_test.json\", \"/content/gdrive/MyDrive/keypoints_detection/keypoints_dataset/test\")"
      ]
    },
    {
      "cell_type": "code",
      "execution_count": null,
      "metadata": {
        "id": "RhA3mfSsLEJZ"
      },
      "outputs": [],
      "source": [
        "MetadataCatalog.get(\"my_dataset_train\").keypoint_names = [\"head\", \"tail\"]\n",
        "MetadataCatalog.get(\"my_dataset_train\").keypoint_flip_map = []\n",
        "MetadataCatalog.get(\"my_dataset_test\").keypoint_names = [\"head\", \"tail\"]\n",
        "MetadataCatalog.get(\"my_dataset_test\").keypoint_flip_map = []\n",
        "val = MetadataCatalog.get(\"my_dataset_train\")\n",
        "print(val)"
      ]
    },
    {
      "cell_type": "code",
      "execution_count": null,
      "metadata": {
        "id": "g0tsfJrOX7Zw"
      },
      "outputs": [],
      "source": [
        "from detectron2.engine import DefaultTrainer\n",
        "\n",
        "cfg = get_cfg()\n",
        "cfg.merge_from_file(model_zoo.get_config_file(\"COCO-Keypoints/keypoint_rcnn_R_50_FPN_1x.yaml\"))\n",
        "cfg.DATASETS.TRAIN = (\"my_dataset_train\",)\n",
        "cfg.DATASETS.TEST = ()\n",
        "cfg.DATALOADER.NUM_WORKERS = 2\n",
        "cfg.MODEL.WEIGHTS = model_zoo.get_checkpoint_url(\"COCO-Keypoints/keypoint_rcnn_R_50_FPN_1x.yaml\")\n",
        "cfg.SOLVER.IMS_PER_BATCH = 2\n",
        "cfg.SOLVER.BASE_LR = 0.00025\n",
        "cfg.SOLVER.MAX_ITER = 5000\n",
        "cfg.SOLVER.STEPS = []\n",
        "cfg.MODEL.ROI_HEADS.BATCH_SIZE_PER_IMAGE = 512\n",
        "cfg.MODEL.ROI_HEADS.NUM_CLASSES = 3\n",
        "cfg.MODEL.RETINANET.NUM_CLASSES = 3\n",
        "cfg.MODEL.ROI_KEYPOINT_HEAD.NUM_KEYPOINTS = 2\n",
        "cfg.OUTPUT_DIR = \"/content/gdrive/MyDrive/output\"\n",
        "\n",
        "os.makedirs(cfg.OUTPUT_DIR, exist_ok=True)\n",
        "trainer = DefaultTrainer(cfg) \n",
        "trainer.resume_or_load(resume=False)\n",
        "trainer.train()"
      ]
    },
    {
      "cell_type": "code",
      "execution_count": null,
      "metadata": {
        "id": "Q8KmAHwEemkr"
      },
      "outputs": [],
      "source": [
        "from detectron2.utils.visualizer import ColorMode\n",
        "import matplotlib.pyplot as plt\n",
        "import json\n",
        "\n",
        "cfg = get_cfg()\n",
        "cfg.merge_from_file(model_zoo.get_config_file(\"COCO-Keypoints/keypoint_rcnn_R_50_FPN_1x.yaml\"))\n",
        "cfg.OUTPUT_DIR = \"/content/gdrive/MyDrive/output\"\n",
        "cfg.MODEL.WEIGHTS = os.path.join(cfg.OUTPUT_DIR, \"model_final.pth\")  # path to the trained model\n",
        "cfg.MODEL.ROI_HEADS.SCORE_THRESH_TEST = 0.8   # set a custom testing threshold\n",
        "cfg.MODEL.ROI_HEADS.NUM_CLASSES = 3  # only has one class (ballon). (see https://detectron2.readthedocs.io/tutorials/datasets.html#update-the-config-for-new-datasets)\n",
        "cfg.MODEL.RETINANET.NUM_CLASSES = 3\n",
        "cfg.MODEL.ROI_KEYPOINT_HEAD.NUM_KEYPOINTS = 2\n",
        "cfg.MODEL.DEVICE = \"cpu\"\n",
        "predictor = DefaultPredictor(cfg)\n",
        "\n",
        "img = cv2.imread(f'/content/gdrive/MyDrive/img1.png', cv2.IMREAD_UNCHANGED)#\n",
        "\n",
        "# fix transparency error with\n",
        "trans_mask = img[:,:,3] == 0\n",
        "img[trans_mask] = [255, 255, 255, 255]\n",
        "img = cv2.cvtColor(img, cv2.COLOR_BGRA2BGR)\n",
        "\n",
        "outputs = predictor(img)\n",
        "print(len(outputs.get(\"instances\").pred_boxes.tensor.numpy()))\n",
        "print(outputs.get(\"instances\").pred_boxes.tensor.numpy())\n",
        "print(outputs.get(\"instances\").pred_keypoints.cpu().numpy())\n",
        "\n",
        "for kp in outputs.get(\"instances\").pred_keypoints.cpu().numpy():\n",
        "  cv2.circle(img, (kp[0][0],kp[0][1]), 4, (0,255,0), -1)\n",
        "  cv2.circle(img, (kp[1][0],kp[1][1]), 4, (0,0,255), -1)\n",
        "cv2_imshow(img)\n",
        "\n",
        "v = Visualizer(img[:, :, ::-1],\n",
        "                metadata=val,\n",
        "                scale=2,\n",
        "                instance_mode=ColorMode.IMAGE_BW\n",
        ")\n",
        "out = v.draw_instance_predictions(outputs[\"instances\"].to(\"cpu\"))\n",
        "# cv2_imshow(out.get_image()[:, :, ::-1])"
      ]
    },
    {
      "cell_type": "code",
      "execution_count": null,
      "metadata": {
        "id": "vraacQRZfBws"
      },
      "outputs": [],
      "source": [
        "%load_ext tensorboard\n",
        "%tensorboard --logdir \"/content/gdrive/MyDrive/output\""
      ]
    },
    {
      "cell_type": "code",
      "execution_count": null,
      "metadata": {
        "id": "sNzwSEiESx4a"
      },
      "outputs": [],
      "source": [
        "from detectron2.evaluation import COCOEvaluator, inference_on_dataset\n",
        "from detectron2.data import build_detection_test_loader\n",
        "evaluator = COCOEvaluator(\"my_dataset_test\", output_dir=cfg.OUTPUT_DIR)\n",
        "val_loader = build_detection_test_loader(cfg, \"my_dataset_test\")\n",
        "print(inference_on_dataset(predictor.model, val_loader, evaluator))\n",
        "# another equivalent way to evaluate the model is to use `trainer.test`"
      ]
    }
  ],
  "metadata": {
    "accelerator": "GPU",
    "colab": {
      "collapsed_sections": [],
      "name": "BPMN_Keypoints_Detection.ipynb",
      "provenance": []
    },
    "kernelspec": {
      "display_name": "Python 3",
      "name": "python3"
    },
    "language_info": {
      "name": "python"
    }
  },
  "nbformat": 4,
  "nbformat_minor": 0
}